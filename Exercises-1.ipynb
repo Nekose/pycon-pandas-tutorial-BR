{
 "cells": [
  {
   "cell_type": "code",
   "execution_count": 1,
   "metadata": {
    "ExecuteTime": {
     "end_time": "2024-05-22T18:36:10.484662Z",
     "start_time": "2024-05-22T18:36:09.585431900Z"
    }
   },
   "outputs": [],
   "source": [
    "%matplotlib inline\n",
    "import pandas as pd"
   ]
  },
  {
   "cell_type": "code",
   "execution_count": 2,
   "metadata": {
    "ExecuteTime": {
     "end_time": "2024-05-22T18:36:10.503661500Z",
     "start_time": "2024-05-22T18:36:10.485662300Z"
    }
   },
   "outputs": [
    {
     "data": {
      "text/plain": "<IPython.core.display.HTML object>",
      "text/html": "<style>body {\n    margin: 0;\n    font-family: Helvetica;\n}\ntable.dataframe {\n    border-collapse: collapse;\n    border: none;\n}\ntable.dataframe tr {\n    border: none;\n}\ntable.dataframe td, table.dataframe th {\n    margin: 0;\n    border: 1px solid white;\n    padding-left: 0.25em;\n    padding-right: 0.25em;\n}\ntable.dataframe th:not(:empty) {\n    background-color: #fec;\n    text-align: left;\n    font-weight: normal;\n}\ntable.dataframe tr:nth-child(2) th:empty {\n    border-left: none;\n    border-right: 1px dashed #888;\n}\ntable.dataframe td {\n    border: 2px solid #ccf;\n    background-color: #f4f4ff;\n}\nh3 {\n    color: white;\n    background-color: black;\n    padding: 0.5em;\n}\n</style>"
     },
     "execution_count": 2,
     "metadata": {},
     "output_type": "execute_result"
    }
   ],
   "source": [
    "from IPython.core.display import HTML\n",
    "css = open('style-table.css').read() + open('style-notebook.css').read()\n",
    "HTML('<style>{}</style>'.format(css))"
   ]
  },
  {
   "cell_type": "code",
   "execution_count": 3,
   "metadata": {
    "ExecuteTime": {
     "end_time": "2024-05-22T18:36:10.655863100Z",
     "start_time": "2024-05-22T18:36:10.500661900Z"
    }
   },
   "outputs": [
    {
     "data": {
      "text/plain": "                  title  year\n0         Hoi sam mo fa  2011\n1     O Signo das Tetas  2016\n2      My Little Sister  1919\n3     Jack Brown Genius  1996\n4  Cheoljonggwa boknyeo  1963",
      "text/html": "<div>\n<style scoped>\n    .dataframe tbody tr th:only-of-type {\n        vertical-align: middle;\n    }\n\n    .dataframe tbody tr th {\n        vertical-align: top;\n    }\n\n    .dataframe thead th {\n        text-align: right;\n    }\n</style>\n<table border=\"1\" class=\"dataframe\">\n  <thead>\n    <tr style=\"text-align: right;\">\n      <th></th>\n      <th>title</th>\n      <th>year</th>\n    </tr>\n  </thead>\n  <tbody>\n    <tr>\n      <th>0</th>\n      <td>Hoi sam mo fa</td>\n      <td>2011</td>\n    </tr>\n    <tr>\n      <th>1</th>\n      <td>O Signo das Tetas</td>\n      <td>2016</td>\n    </tr>\n    <tr>\n      <th>2</th>\n      <td>My Little Sister</td>\n      <td>1919</td>\n    </tr>\n    <tr>\n      <th>3</th>\n      <td>Jack Brown Genius</td>\n      <td>1996</td>\n    </tr>\n    <tr>\n      <th>4</th>\n      <td>Cheoljonggwa boknyeo</td>\n      <td>1963</td>\n    </tr>\n  </tbody>\n</table>\n</div>"
     },
     "execution_count": 3,
     "metadata": {},
     "output_type": "execute_result"
    }
   ],
   "source": [
    "titles = pd.read_csv('data/titles.csv')\n",
    "titles.head()"
   ]
  },
  {
   "cell_type": "code",
   "execution_count": 4,
   "metadata": {
    "ExecuteTime": {
     "end_time": "2024-05-22T18:36:13.589514800Z",
     "start_time": "2024-05-22T18:36:10.656863400Z"
    }
   },
   "outputs": [
    {
     "data": {
      "text/plain": "                  title  year      name   type                character     n\n0        Closet Monster  2015  Buffy #1  actor                  Buffy 4  31.0\n1       Suuri illusioni  1985    Homo $  actor                   Guests  22.0\n2   Battle of the Sexes  2017   $hutter  actor          Bobby Riggs Fan  10.0\n3  Secret in Their Eyes  2015   $hutter  actor          2002 Dodger Fan   NaN\n4            Steve Jobs  2015   $hutter  actor  1988 Opera House Patron   NaN",
      "text/html": "<div>\n<style scoped>\n    .dataframe tbody tr th:only-of-type {\n        vertical-align: middle;\n    }\n\n    .dataframe tbody tr th {\n        vertical-align: top;\n    }\n\n    .dataframe thead th {\n        text-align: right;\n    }\n</style>\n<table border=\"1\" class=\"dataframe\">\n  <thead>\n    <tr style=\"text-align: right;\">\n      <th></th>\n      <th>title</th>\n      <th>year</th>\n      <th>name</th>\n      <th>type</th>\n      <th>character</th>\n      <th>n</th>\n    </tr>\n  </thead>\n  <tbody>\n    <tr>\n      <th>0</th>\n      <td>Closet Monster</td>\n      <td>2015</td>\n      <td>Buffy #1</td>\n      <td>actor</td>\n      <td>Buffy 4</td>\n      <td>31.0</td>\n    </tr>\n    <tr>\n      <th>1</th>\n      <td>Suuri illusioni</td>\n      <td>1985</td>\n      <td>Homo $</td>\n      <td>actor</td>\n      <td>Guests</td>\n      <td>22.0</td>\n    </tr>\n    <tr>\n      <th>2</th>\n      <td>Battle of the Sexes</td>\n      <td>2017</td>\n      <td>$hutter</td>\n      <td>actor</td>\n      <td>Bobby Riggs Fan</td>\n      <td>10.0</td>\n    </tr>\n    <tr>\n      <th>3</th>\n      <td>Secret in Their Eyes</td>\n      <td>2015</td>\n      <td>$hutter</td>\n      <td>actor</td>\n      <td>2002 Dodger Fan</td>\n      <td>NaN</td>\n    </tr>\n    <tr>\n      <th>4</th>\n      <td>Steve Jobs</td>\n      <td>2015</td>\n      <td>$hutter</td>\n      <td>actor</td>\n      <td>1988 Opera House Patron</td>\n      <td>NaN</td>\n    </tr>\n  </tbody>\n</table>\n</div>"
     },
     "execution_count": 4,
     "metadata": {},
     "output_type": "execute_result"
    }
   ],
   "source": [
    "cast = pd.read_csv('data/cast.csv')\n",
    "cast.head()"
   ]
  },
  {
   "cell_type": "markdown",
   "metadata": {
    "collapsed": true
   },
   "source": [
    "### How many movies are listed in the titles dataframe?"
   ]
  },
  {
   "cell_type": "code",
   "execution_count": 5,
   "metadata": {
    "collapsed": true,
    "ExecuteTime": {
     "end_time": "2024-05-22T18:36:13.629741500Z",
     "start_time": "2024-05-22T18:36:13.589514800Z"
    }
   },
   "outputs": [
    {
     "data": {
      "text/plain": "226013"
     },
     "execution_count": 5,
     "metadata": {},
     "output_type": "execute_result"
    }
   ],
   "source": [
    "len(titles)"
   ]
  },
  {
   "cell_type": "code",
   "execution_count": 5,
   "metadata": {
    "collapsed": true,
    "ExecuteTime": {
     "end_time": "2024-05-22T18:36:13.666761400Z",
     "start_time": "2024-05-22T18:36:13.605513800Z"
    }
   },
   "outputs": [],
   "source": []
  },
  {
   "cell_type": "markdown",
   "metadata": {
    "collapsed": true
   },
   "source": [
    "### What are the earliest two films listed in the titles dataframe?"
   ]
  },
  {
   "cell_type": "code",
   "execution_count": 6,
   "metadata": {
    "collapsed": true,
    "ExecuteTime": {
     "end_time": "2024-05-22T18:36:13.746761700Z",
     "start_time": "2024-05-22T18:36:13.620975500Z"
    }
   },
   "outputs": [
    {
     "data": {
      "text/plain": "                     title  year\n4625            Miss Jerry  1894\n140105  The Startled Lover  1898",
      "text/html": "<div>\n<style scoped>\n    .dataframe tbody tr th:only-of-type {\n        vertical-align: middle;\n    }\n\n    .dataframe tbody tr th {\n        vertical-align: top;\n    }\n\n    .dataframe thead th {\n        text-align: right;\n    }\n</style>\n<table border=\"1\" class=\"dataframe\">\n  <thead>\n    <tr style=\"text-align: right;\">\n      <th></th>\n      <th>title</th>\n      <th>year</th>\n    </tr>\n  </thead>\n  <tbody>\n    <tr>\n      <th>4625</th>\n      <td>Miss Jerry</td>\n      <td>1894</td>\n    </tr>\n    <tr>\n      <th>140105</th>\n      <td>The Startled Lover</td>\n      <td>1898</td>\n    </tr>\n  </tbody>\n</table>\n</div>"
     },
     "execution_count": 6,
     "metadata": {},
     "output_type": "execute_result"
    }
   ],
   "source": [
    "sortedtitles = titles\n",
    "sortedtitles.sort_values('year').head(2)"
   ]
  },
  {
   "cell_type": "code",
   "execution_count": 6,
   "metadata": {
    "collapsed": true,
    "ExecuteTime": {
     "end_time": "2024-05-22T18:36:13.756762100Z",
     "start_time": "2024-05-22T18:36:13.652816100Z"
    }
   },
   "outputs": [],
   "source": []
  },
  {
   "cell_type": "markdown",
   "metadata": {
    "collapsed": true
   },
   "source": [
    "### How many movies have the single-word title \"Hamlet\"?"
   ]
  },
  {
   "cell_type": "code",
   "execution_count": 7,
   "metadata": {
    "collapsed": true,
    "ExecuteTime": {
     "end_time": "2024-05-22T18:36:13.756762100Z",
     "start_time": "2024-05-22T18:36:13.668762100Z"
    }
   },
   "outputs": [
    {
     "data": {
      "text/plain": "20"
     },
     "execution_count": 7,
     "metadata": {},
     "output_type": "execute_result"
    }
   ],
   "source": [
    "hamlettitles = titles[titles['title'] == \"Hamlet\"]\n",
    "len(hamlettitles)"
   ]
  },
  {
   "cell_type": "code",
   "execution_count": 7,
   "metadata": {
    "collapsed": true,
    "ExecuteTime": {
     "end_time": "2024-05-22T18:36:13.757761600Z",
     "start_time": "2024-05-22T18:36:13.684762600Z"
    }
   },
   "outputs": [],
   "source": []
  },
  {
   "cell_type": "markdown",
   "metadata": {
    "collapsed": true
   },
   "source": [
    "### How many movies are titled \"North by Northwest\"?"
   ]
  },
  {
   "cell_type": "code",
   "execution_count": 8,
   "metadata": {
    "collapsed": true,
    "ExecuteTime": {
     "end_time": "2024-05-22T18:36:13.759761500Z",
     "start_time": "2024-05-22T18:36:13.700762500Z"
    }
   },
   "outputs": [
    {
     "data": {
      "text/plain": "20"
     },
     "execution_count": 8,
     "metadata": {},
     "output_type": "execute_result"
    }
   ],
   "source": [
    "nxnw = titles[titles['title'] == \"North by Northwest\"]\n",
    "len(hamlettitles)"
   ]
  },
  {
   "cell_type": "code",
   "execution_count": 8,
   "metadata": {
    "collapsed": true,
    "ExecuteTime": {
     "end_time": "2024-05-22T18:36:13.778761400Z",
     "start_time": "2024-05-22T18:36:13.716762100Z"
    }
   },
   "outputs": [],
   "source": []
  },
  {
   "cell_type": "markdown",
   "metadata": {
    "collapsed": true
   },
   "source": [
    "### When was the first movie titled \"Hamlet\" made?"
   ]
  },
  {
   "cell_type": "code",
   "execution_count": 9,
   "metadata": {
    "collapsed": true,
    "ExecuteTime": {
     "end_time": "2024-05-22T18:36:13.799762700Z",
     "start_time": "2024-05-22T18:36:13.732762500Z"
    }
   },
   "outputs": [
    {
     "data": {
      "text/plain": "         title  year\n189536  Hamlet  1910",
      "text/html": "<div>\n<style scoped>\n    .dataframe tbody tr th:only-of-type {\n        vertical-align: middle;\n    }\n\n    .dataframe tbody tr th {\n        vertical-align: top;\n    }\n\n    .dataframe thead th {\n        text-align: right;\n    }\n</style>\n<table border=\"1\" class=\"dataframe\">\n  <thead>\n    <tr style=\"text-align: right;\">\n      <th></th>\n      <th>title</th>\n      <th>year</th>\n    </tr>\n  </thead>\n  <tbody>\n    <tr>\n      <th>189536</th>\n      <td>Hamlet</td>\n      <td>1910</td>\n    </tr>\n  </tbody>\n</table>\n</div>"
     },
     "execution_count": 9,
     "metadata": {},
     "output_type": "execute_result"
    }
   ],
   "source": [
    "hamlettitles.sort_values('year').head(1)"
   ]
  },
  {
   "cell_type": "code",
   "execution_count": 9,
   "metadata": {
    "collapsed": true,
    "ExecuteTime": {
     "end_time": "2024-05-22T18:36:13.842451600Z",
     "start_time": "2024-05-22T18:36:13.750763900Z"
    }
   },
   "outputs": [],
   "source": []
  },
  {
   "cell_type": "markdown",
   "metadata": {
    "collapsed": true
   },
   "source": [
    "### List all of the \"Treasure Island\" movies from earliest to most recent."
   ]
  },
  {
   "cell_type": "code",
   "execution_count": 10,
   "metadata": {
    "collapsed": true,
    "ExecuteTime": {
     "end_time": "2024-05-22T18:36:13.918462100Z",
     "start_time": "2024-05-22T18:36:13.764762300Z"
    }
   },
   "outputs": [
    {
     "data": {
      "text/plain": "                  title  year\n113392  Treasure Island  1918\n93787   Treasure Island  1920\n103471  Treasure Island  1934\n70291   Treasure Island  1950\n162575  Treasure Island  1972\n124577  Treasure Island  1973\n14540   Treasure Island  1985\n156553  Treasure Island  1999",
      "text/html": "<div>\n<style scoped>\n    .dataframe tbody tr th:only-of-type {\n        vertical-align: middle;\n    }\n\n    .dataframe tbody tr th {\n        vertical-align: top;\n    }\n\n    .dataframe thead th {\n        text-align: right;\n    }\n</style>\n<table border=\"1\" class=\"dataframe\">\n  <thead>\n    <tr style=\"text-align: right;\">\n      <th></th>\n      <th>title</th>\n      <th>year</th>\n    </tr>\n  </thead>\n  <tbody>\n    <tr>\n      <th>113392</th>\n      <td>Treasure Island</td>\n      <td>1918</td>\n    </tr>\n    <tr>\n      <th>93787</th>\n      <td>Treasure Island</td>\n      <td>1920</td>\n    </tr>\n    <tr>\n      <th>103471</th>\n      <td>Treasure Island</td>\n      <td>1934</td>\n    </tr>\n    <tr>\n      <th>70291</th>\n      <td>Treasure Island</td>\n      <td>1950</td>\n    </tr>\n    <tr>\n      <th>162575</th>\n      <td>Treasure Island</td>\n      <td>1972</td>\n    </tr>\n    <tr>\n      <th>124577</th>\n      <td>Treasure Island</td>\n      <td>1973</td>\n    </tr>\n    <tr>\n      <th>14540</th>\n      <td>Treasure Island</td>\n      <td>1985</td>\n    </tr>\n    <tr>\n      <th>156553</th>\n      <td>Treasure Island</td>\n      <td>1999</td>\n    </tr>\n  </tbody>\n</table>\n</div>"
     },
     "execution_count": 10,
     "metadata": {},
     "output_type": "execute_result"
    }
   ],
   "source": [
    "titles[titles[\"title\"] == \"Treasure Island\"].sort_values(\"year\")"
   ]
  },
  {
   "cell_type": "code",
   "execution_count": 10,
   "metadata": {
    "collapsed": true,
    "ExecuteTime": {
     "end_time": "2024-05-22T18:36:13.928489900Z",
     "start_time": "2024-05-22T18:36:13.780762500Z"
    }
   },
   "outputs": [],
   "source": []
  },
  {
   "cell_type": "markdown",
   "metadata": {
    "collapsed": true
   },
   "source": [
    "### How many movies were made in the year 1950?"
   ]
  },
  {
   "cell_type": "code",
   "execution_count": 11,
   "metadata": {
    "collapsed": true,
    "ExecuteTime": {
     "end_time": "2024-05-22T18:36:13.932489900Z",
     "start_time": "2024-05-22T18:36:13.797762700Z"
    }
   },
   "outputs": [
    {
     "data": {
      "text/plain": "1109"
     },
     "execution_count": 11,
     "metadata": {},
     "output_type": "execute_result"
    }
   ],
   "source": [
    "len(titles[titles[\"year\"] == 1950])"
   ]
  },
  {
   "cell_type": "code",
   "execution_count": 11,
   "metadata": {
    "collapsed": true,
    "ExecuteTime": {
     "end_time": "2024-05-22T18:36:13.932489900Z",
     "start_time": "2024-05-22T18:36:13.812934700Z"
    }
   },
   "outputs": [],
   "source": []
  },
  {
   "cell_type": "markdown",
   "metadata": {
    "collapsed": true
   },
   "source": [
    "### How many movies were made in the year 1960?"
   ]
  },
  {
   "cell_type": "code",
   "execution_count": 12,
   "metadata": {
    "collapsed": true,
    "ExecuteTime": {
     "end_time": "2024-05-22T18:36:13.934490Z",
     "start_time": "2024-05-22T18:36:13.827939900Z"
    }
   },
   "outputs": [
    {
     "data": {
      "text/plain": "1496"
     },
     "execution_count": 12,
     "metadata": {},
     "output_type": "execute_result"
    }
   ],
   "source": [
    "len(titles[titles[\"year\"] == 1960])"
   ]
  },
  {
   "cell_type": "code",
   "execution_count": 12,
   "metadata": {
    "collapsed": true,
    "ExecuteTime": {
     "end_time": "2024-05-22T18:36:13.952490600Z",
     "start_time": "2024-05-22T18:36:13.843451700Z"
    }
   },
   "outputs": [],
   "source": []
  },
  {
   "cell_type": "markdown",
   "metadata": {
    "collapsed": true
   },
   "source": [
    "### How many movies were made from 1950 through 1959?"
   ]
  },
  {
   "cell_type": "code",
   "execution_count": 13,
   "metadata": {
    "collapsed": true,
    "ExecuteTime": {
     "end_time": "2024-05-22T18:36:13.954490300Z",
     "start_time": "2024-05-22T18:36:13.860007500Z"
    }
   },
   "outputs": [
    {
     "data": {
      "text/plain": "                        title  year\n42      Na podmostkakh stseny  1956\n61                   Julietta  1953\n71                The Brigand  1952\n79         Journey to Freedom  1957\n94            Mi adorado Juan  1950\n...                       ...   ...\n225945      The Dancing Years  1950\n225949                Paprika  1959\n225955               Up Front  1951\n225956     Face of a Fugitive  1959\n226002             Fin de mes  1953\n\n[12664 rows x 2 columns]",
      "text/html": "<div>\n<style scoped>\n    .dataframe tbody tr th:only-of-type {\n        vertical-align: middle;\n    }\n\n    .dataframe tbody tr th {\n        vertical-align: top;\n    }\n\n    .dataframe thead th {\n        text-align: right;\n    }\n</style>\n<table border=\"1\" class=\"dataframe\">\n  <thead>\n    <tr style=\"text-align: right;\">\n      <th></th>\n      <th>title</th>\n      <th>year</th>\n    </tr>\n  </thead>\n  <tbody>\n    <tr>\n      <th>42</th>\n      <td>Na podmostkakh stseny</td>\n      <td>1956</td>\n    </tr>\n    <tr>\n      <th>61</th>\n      <td>Julietta</td>\n      <td>1953</td>\n    </tr>\n    <tr>\n      <th>71</th>\n      <td>The Brigand</td>\n      <td>1952</td>\n    </tr>\n    <tr>\n      <th>79</th>\n      <td>Journey to Freedom</td>\n      <td>1957</td>\n    </tr>\n    <tr>\n      <th>94</th>\n      <td>Mi adorado Juan</td>\n      <td>1950</td>\n    </tr>\n    <tr>\n      <th>...</th>\n      <td>...</td>\n      <td>...</td>\n    </tr>\n    <tr>\n      <th>225945</th>\n      <td>The Dancing Years</td>\n      <td>1950</td>\n    </tr>\n    <tr>\n      <th>225949</th>\n      <td>Paprika</td>\n      <td>1959</td>\n    </tr>\n    <tr>\n      <th>225955</th>\n      <td>Up Front</td>\n      <td>1951</td>\n    </tr>\n    <tr>\n      <th>225956</th>\n      <td>Face of a Fugitive</td>\n      <td>1959</td>\n    </tr>\n    <tr>\n      <th>226002</th>\n      <td>Fin de mes</td>\n      <td>1953</td>\n    </tr>\n  </tbody>\n</table>\n<p>12664 rows × 2 columns</p>\n</div>"
     },
     "execution_count": 13,
     "metadata": {},
     "output_type": "execute_result"
    }
   ],
   "source": [
    "titles[(titles[\"year\"] <= 1959) & (titles['year'] >= 1950)]"
   ]
  },
  {
   "cell_type": "code",
   "execution_count": 13,
   "metadata": {
    "collapsed": true,
    "ExecuteTime": {
     "end_time": "2024-05-22T18:36:13.982102400Z",
     "start_time": "2024-05-22T18:36:13.874463200Z"
    }
   },
   "outputs": [],
   "source": []
  },
  {
   "cell_type": "markdown",
   "metadata": {
    "collapsed": true
   },
   "source": [
    "### In what years has a movie titled \"Batman\" been released?"
   ]
  },
  {
   "cell_type": "code",
   "execution_count": 14,
   "metadata": {
    "collapsed": true,
    "ExecuteTime": {
     "end_time": "2024-05-22T18:36:13.983102700Z",
     "start_time": "2024-05-22T18:36:13.897463Z"
    }
   },
   "outputs": [
    {
     "data": {
      "text/plain": "         title  year\n47123   Batman  1989\n188658  Batman  1943",
      "text/html": "<div>\n<style scoped>\n    .dataframe tbody tr th:only-of-type {\n        vertical-align: middle;\n    }\n\n    .dataframe tbody tr th {\n        vertical-align: top;\n    }\n\n    .dataframe thead th {\n        text-align: right;\n    }\n</style>\n<table border=\"1\" class=\"dataframe\">\n  <thead>\n    <tr style=\"text-align: right;\">\n      <th></th>\n      <th>title</th>\n      <th>year</th>\n    </tr>\n  </thead>\n  <tbody>\n    <tr>\n      <th>47123</th>\n      <td>Batman</td>\n      <td>1989</td>\n    </tr>\n    <tr>\n      <th>188658</th>\n      <td>Batman</td>\n      <td>1943</td>\n    </tr>\n  </tbody>\n</table>\n</div>"
     },
     "execution_count": 14,
     "metadata": {},
     "output_type": "execute_result"
    }
   ],
   "source": [
    "titles[titles['title'] == \"Batman\"]"
   ]
  },
  {
   "cell_type": "code",
   "execution_count": 14,
   "metadata": {
    "collapsed": true,
    "ExecuteTime": {
     "end_time": "2024-05-22T18:36:13.984102800Z",
     "start_time": "2024-05-22T18:36:13.905463300Z"
    }
   },
   "outputs": [],
   "source": []
  },
  {
   "cell_type": "markdown",
   "metadata": {
    "collapsed": true
   },
   "source": [
    "### How many roles were there in the movie \"Inception\"?"
   ]
  },
  {
   "cell_type": "code",
   "execution_count": 15,
   "metadata": {
    "collapsed": true,
    "ExecuteTime": {
     "end_time": "2024-05-22T18:36:14.030102300Z",
     "start_time": "2024-05-22T18:36:13.920463Z"
    }
   },
   "outputs": [
    {
     "data": {
      "text/plain": "                  title  year      name   type                character     n\n0        Closet Monster  2015  Buffy #1  actor                  Buffy 4  31.0\n1       Suuri illusioni  1985    Homo $  actor                   Guests  22.0\n2   Battle of the Sexes  2017   $hutter  actor          Bobby Riggs Fan  10.0\n3  Secret in Their Eyes  2015   $hutter  actor          2002 Dodger Fan   NaN\n4            Steve Jobs  2015   $hutter  actor  1988 Opera House Patron   NaN",
      "text/html": "<div>\n<style scoped>\n    .dataframe tbody tr th:only-of-type {\n        vertical-align: middle;\n    }\n\n    .dataframe tbody tr th {\n        vertical-align: top;\n    }\n\n    .dataframe thead th {\n        text-align: right;\n    }\n</style>\n<table border=\"1\" class=\"dataframe\">\n  <thead>\n    <tr style=\"text-align: right;\">\n      <th></th>\n      <th>title</th>\n      <th>year</th>\n      <th>name</th>\n      <th>type</th>\n      <th>character</th>\n      <th>n</th>\n    </tr>\n  </thead>\n  <tbody>\n    <tr>\n      <th>0</th>\n      <td>Closet Monster</td>\n      <td>2015</td>\n      <td>Buffy #1</td>\n      <td>actor</td>\n      <td>Buffy 4</td>\n      <td>31.0</td>\n    </tr>\n    <tr>\n      <th>1</th>\n      <td>Suuri illusioni</td>\n      <td>1985</td>\n      <td>Homo $</td>\n      <td>actor</td>\n      <td>Guests</td>\n      <td>22.0</td>\n    </tr>\n    <tr>\n      <th>2</th>\n      <td>Battle of the Sexes</td>\n      <td>2017</td>\n      <td>$hutter</td>\n      <td>actor</td>\n      <td>Bobby Riggs Fan</td>\n      <td>10.0</td>\n    </tr>\n    <tr>\n      <th>3</th>\n      <td>Secret in Their Eyes</td>\n      <td>2015</td>\n      <td>$hutter</td>\n      <td>actor</td>\n      <td>2002 Dodger Fan</td>\n      <td>NaN</td>\n    </tr>\n    <tr>\n      <th>4</th>\n      <td>Steve Jobs</td>\n      <td>2015</td>\n      <td>$hutter</td>\n      <td>actor</td>\n      <td>1988 Opera House Patron</td>\n      <td>NaN</td>\n    </tr>\n  </tbody>\n</table>\n</div>"
     },
     "execution_count": 15,
     "metadata": {},
     "output_type": "execute_result"
    }
   ],
   "source": [
    "cast.head()"
   ]
  },
  {
   "cell_type": "code",
   "execution_count": 16,
   "metadata": {
    "collapsed": true,
    "ExecuteTime": {
     "end_time": "2024-05-22T18:36:14.155013300Z",
     "start_time": "2024-05-22T18:36:13.936490500Z"
    }
   },
   "outputs": [
    {
     "data": {
      "text/plain": "78"
     },
     "execution_count": 16,
     "metadata": {},
     "output_type": "execute_result"
    }
   ],
   "source": [
    "len(cast[cast['title'] == \"Inception\"])"
   ]
  },
  {
   "cell_type": "markdown",
   "metadata": {
    "collapsed": true
   },
   "source": [
    "### How many roles in the movie \"Inception\" are NOT ranked by an \"n\" value?"
   ]
  },
  {
   "cell_type": "code",
   "execution_count": 16,
   "metadata": {
    "collapsed": true,
    "ExecuteTime": {
     "end_time": "2024-05-22T18:36:14.186609900Z",
     "start_time": "2024-05-22T18:36:14.048679800Z"
    }
   },
   "outputs": [],
   "source": []
  },
  {
   "cell_type": "code",
   "execution_count": 16,
   "metadata": {
    "collapsed": true,
    "ExecuteTime": {
     "end_time": "2024-05-22T18:36:14.232239600Z",
     "start_time": "2024-05-22T18:36:14.063684900Z"
    }
   },
   "outputs": [],
   "source": []
  },
  {
   "cell_type": "markdown",
   "metadata": {
    "collapsed": true
   },
   "source": [
    "### But how many roles in the movie \"Inception\" did receive an \"n\" value?"
   ]
  },
  {
   "cell_type": "code",
   "execution_count": 17,
   "metadata": {
    "collapsed": true,
    "ExecuteTime": {
     "end_time": "2024-05-22T18:36:14.310704Z",
     "start_time": "2024-05-22T18:36:14.079684200Z"
    }
   },
   "outputs": [
    {
     "data": {
      "text/plain": "51"
     },
     "execution_count": 17,
     "metadata": {},
     "output_type": "execute_result"
    }
   ],
   "source": [
    "len(cast[(cast['title'] == \"Inception\") & (cast['n'].notnull())])"
   ]
  },
  {
   "cell_type": "code",
   "execution_count": 17,
   "metadata": {
    "collapsed": true,
    "ExecuteTime": {
     "end_time": "2024-05-22T18:36:14.348704100Z",
     "start_time": "2024-05-22T18:36:14.188610Z"
    }
   },
   "outputs": [],
   "source": []
  },
  {
   "cell_type": "markdown",
   "metadata": {
    "collapsed": true
   },
   "source": [
    "### Display the cast of \"North by Northwest\" in their correct \"n\"-value order, ignoring roles that did not earn a numeric \"n\" value."
   ]
  },
  {
   "cell_type": "code",
   "execution_count": 18,
   "metadata": {
    "collapsed": true,
    "ExecuteTime": {
     "end_time": "2024-05-22T18:36:14.381704300Z",
     "start_time": "2024-05-22T18:36:14.203610500Z"
    }
   },
   "outputs": [
    {
     "name": "stderr",
     "output_type": "stream",
     "text": [
      "C:\\Users\\peter\\AppData\\Local\\Temp\\ipykernel_22360\\1684218042.py:3: UserWarning: Boolean Series key will be reindexed to match DataFrame index.\n",
      "  nxnwcast = nxnwcast[cast['n'].notnull()]\n"
     ]
    },
    {
     "data": {
      "text/plain": "                      title  year                  name     type  \\\n797150   North by Northwest  1959            Cary Grant    actor   \n3201980  North by Northwest  1959       Eva Marie Saint  actress   \n1333732  North by Northwest  1959           James Mason    actor   \n2878461  North by Northwest  1959   Jessie Royce Landis  actress   \n326415   North by Northwest  1959        Leo G. Carroll    actor   \n2780220  North by Northwest  1959  Josephine Hutchinson  actress   \n1551491  North by Northwest  1959           Philip Ober    actor   \n1167105  North by Northwest  1959         Martin Landau    actor   \n2239203  North by Northwest  1959         Adam Williams    actor   \n1657968  North by Northwest  1959          Edward Platt    actor   \n609229   North by Northwest  1959     Robert Ellenstein    actor   \n2100440  North by Northwest  1959          Les Tremayne    actor   \n425645   North by Northwest  1959       Philip Coolidge    actor   \n1379980  North by Northwest  1959         Patrick McVey    actor   \n189719   North by Northwest  1959          Edward Binns    actor   \n1267109  North by Northwest  1959             Ken Lynch    actor   \n\n                           character     n  \n797150            Roger O. Thornhill   1.0  \n3201980                  Eve Kendall   2.0  \n1333732              Phillip Vandamm   3.0  \n2878461              Clara Thornhill   4.0  \n326415                 The Professor   5.0  \n2780220                Mrs. Townsend   6.0  \n1551491              Lester Townsend   7.0  \n1167105                      Leonard   8.0  \n2239203                     Valerian   9.0  \n1657968              Victor Larrabee  10.0  \n609229                         Licht  11.0  \n2100440                   Auctioneer  12.0  \n425645                     Dr. Cross  13.0  \n1379980               Sergeant Flamm  14.0  \n189719                Captain Junket  15.0  \n1267109  Charley - Chicago Policeman  16.0  ",
      "text/html": "<div>\n<style scoped>\n    .dataframe tbody tr th:only-of-type {\n        vertical-align: middle;\n    }\n\n    .dataframe tbody tr th {\n        vertical-align: top;\n    }\n\n    .dataframe thead th {\n        text-align: right;\n    }\n</style>\n<table border=\"1\" class=\"dataframe\">\n  <thead>\n    <tr style=\"text-align: right;\">\n      <th></th>\n      <th>title</th>\n      <th>year</th>\n      <th>name</th>\n      <th>type</th>\n      <th>character</th>\n      <th>n</th>\n    </tr>\n  </thead>\n  <tbody>\n    <tr>\n      <th>797150</th>\n      <td>North by Northwest</td>\n      <td>1959</td>\n      <td>Cary Grant</td>\n      <td>actor</td>\n      <td>Roger O. Thornhill</td>\n      <td>1.0</td>\n    </tr>\n    <tr>\n      <th>3201980</th>\n      <td>North by Northwest</td>\n      <td>1959</td>\n      <td>Eva Marie Saint</td>\n      <td>actress</td>\n      <td>Eve Kendall</td>\n      <td>2.0</td>\n    </tr>\n    <tr>\n      <th>1333732</th>\n      <td>North by Northwest</td>\n      <td>1959</td>\n      <td>James Mason</td>\n      <td>actor</td>\n      <td>Phillip Vandamm</td>\n      <td>3.0</td>\n    </tr>\n    <tr>\n      <th>2878461</th>\n      <td>North by Northwest</td>\n      <td>1959</td>\n      <td>Jessie Royce Landis</td>\n      <td>actress</td>\n      <td>Clara Thornhill</td>\n      <td>4.0</td>\n    </tr>\n    <tr>\n      <th>326415</th>\n      <td>North by Northwest</td>\n      <td>1959</td>\n      <td>Leo G. Carroll</td>\n      <td>actor</td>\n      <td>The Professor</td>\n      <td>5.0</td>\n    </tr>\n    <tr>\n      <th>2780220</th>\n      <td>North by Northwest</td>\n      <td>1959</td>\n      <td>Josephine Hutchinson</td>\n      <td>actress</td>\n      <td>Mrs. Townsend</td>\n      <td>6.0</td>\n    </tr>\n    <tr>\n      <th>1551491</th>\n      <td>North by Northwest</td>\n      <td>1959</td>\n      <td>Philip Ober</td>\n      <td>actor</td>\n      <td>Lester Townsend</td>\n      <td>7.0</td>\n    </tr>\n    <tr>\n      <th>1167105</th>\n      <td>North by Northwest</td>\n      <td>1959</td>\n      <td>Martin Landau</td>\n      <td>actor</td>\n      <td>Leonard</td>\n      <td>8.0</td>\n    </tr>\n    <tr>\n      <th>2239203</th>\n      <td>North by Northwest</td>\n      <td>1959</td>\n      <td>Adam Williams</td>\n      <td>actor</td>\n      <td>Valerian</td>\n      <td>9.0</td>\n    </tr>\n    <tr>\n      <th>1657968</th>\n      <td>North by Northwest</td>\n      <td>1959</td>\n      <td>Edward Platt</td>\n      <td>actor</td>\n      <td>Victor Larrabee</td>\n      <td>10.0</td>\n    </tr>\n    <tr>\n      <th>609229</th>\n      <td>North by Northwest</td>\n      <td>1959</td>\n      <td>Robert Ellenstein</td>\n      <td>actor</td>\n      <td>Licht</td>\n      <td>11.0</td>\n    </tr>\n    <tr>\n      <th>2100440</th>\n      <td>North by Northwest</td>\n      <td>1959</td>\n      <td>Les Tremayne</td>\n      <td>actor</td>\n      <td>Auctioneer</td>\n      <td>12.0</td>\n    </tr>\n    <tr>\n      <th>425645</th>\n      <td>North by Northwest</td>\n      <td>1959</td>\n      <td>Philip Coolidge</td>\n      <td>actor</td>\n      <td>Dr. Cross</td>\n      <td>13.0</td>\n    </tr>\n    <tr>\n      <th>1379980</th>\n      <td>North by Northwest</td>\n      <td>1959</td>\n      <td>Patrick McVey</td>\n      <td>actor</td>\n      <td>Sergeant Flamm</td>\n      <td>14.0</td>\n    </tr>\n    <tr>\n      <th>189719</th>\n      <td>North by Northwest</td>\n      <td>1959</td>\n      <td>Edward Binns</td>\n      <td>actor</td>\n      <td>Captain Junket</td>\n      <td>15.0</td>\n    </tr>\n    <tr>\n      <th>1267109</th>\n      <td>North by Northwest</td>\n      <td>1959</td>\n      <td>Ken Lynch</td>\n      <td>actor</td>\n      <td>Charley - Chicago Policeman</td>\n      <td>16.0</td>\n    </tr>\n  </tbody>\n</table>\n</div>"
     },
     "execution_count": 18,
     "metadata": {},
     "output_type": "execute_result"
    }
   ],
   "source": [
    "#subset where only 'n' values are listed\n",
    "nxnwcast = cast[cast['title'] == \"North by Northwest\"]\n",
    "nxnwcast = nxnwcast[cast['n'].notnull()]\n",
    "nxnwcast.sort_values(\"n\")"
   ]
  },
  {
   "cell_type": "code",
   "execution_count": 18,
   "metadata": {
    "collapsed": true,
    "ExecuteTime": {
     "end_time": "2024-05-22T18:36:14.381704300Z",
     "start_time": "2024-05-22T18:36:14.312705800Z"
    }
   },
   "outputs": [],
   "source": []
  },
  {
   "cell_type": "markdown",
   "metadata": {
    "collapsed": true
   },
   "source": [
    "### Display the entire cast, in \"n\"-order, of the 1972 film \"Sleuth\"."
   ]
  },
  {
   "cell_type": "code",
   "execution_count": 19,
   "metadata": {
    "collapsed": true,
    "ExecuteTime": {
     "end_time": "2024-05-22T18:36:14.422210600Z",
     "start_time": "2024-05-22T18:36:14.329704500Z"
    }
   },
   "outputs": [
    {
     "data": {
      "text/plain": "3442902"
     },
     "execution_count": 19,
     "metadata": {},
     "output_type": "execute_result"
    }
   ],
   "source": [
    "c = cast\n",
    "len(c)"
   ]
  },
  {
   "cell_type": "code",
   "execution_count": 19,
   "metadata": {
    "collapsed": true,
    "ExecuteTime": {
     "end_time": "2024-05-22T18:36:14.442210400Z",
     "start_time": "2024-05-22T18:36:14.344705Z"
    }
   },
   "outputs": [],
   "source": []
  },
  {
   "cell_type": "markdown",
   "metadata": {
    "collapsed": true
   },
   "source": [
    "### Now display the entire cast, in \"n\"-order, of the 2007 version of \"Sleuth\"."
   ]
  },
  {
   "cell_type": "code",
   "execution_count": 19,
   "metadata": {
    "collapsed": true,
    "ExecuteTime": {
     "end_time": "2024-05-22T18:36:14.442210400Z",
     "start_time": "2024-05-22T18:36:14.360705900Z"
    }
   },
   "outputs": [],
   "source": []
  },
  {
   "cell_type": "code",
   "execution_count": 19,
   "metadata": {
    "collapsed": true,
    "ExecuteTime": {
     "end_time": "2024-05-22T18:36:14.473264700Z",
     "start_time": "2024-05-22T18:36:14.376705700Z"
    }
   },
   "outputs": [],
   "source": []
  },
  {
   "cell_type": "markdown",
   "metadata": {
    "collapsed": true
   },
   "source": [
    "### How many roles were credited in the silent 1921 version of Hamlet?"
   ]
  },
  {
   "cell_type": "code",
   "execution_count": 20,
   "metadata": {
    "collapsed": true,
    "ExecuteTime": {
     "end_time": "2024-05-22T18:36:14.556066Z",
     "start_time": "2024-05-22T18:36:14.392705100Z"
    }
   },
   "outputs": [
    {
     "data": {
      "text/plain": "9"
     },
     "execution_count": 20,
     "metadata": {},
     "output_type": "execute_result"
    }
   ],
   "source": [
    "c=cast\n",
    "c = c[c[\"title\"] == \"Hamlet\"]\n",
    "c = c[c[\"year\"] == 1921]\n",
    "len(c)"
   ]
  },
  {
   "cell_type": "code",
   "execution_count": 20,
   "metadata": {
    "collapsed": true,
    "ExecuteTime": {
     "end_time": "2024-05-22T18:36:14.557066Z",
     "start_time": "2024-05-22T18:36:14.517669100Z"
    }
   },
   "outputs": [],
   "source": []
  },
  {
   "cell_type": "markdown",
   "metadata": {
    "collapsed": true
   },
   "source": [
    "### How many roles were credited in Branagh’s 1996 Hamlet?"
   ]
  },
  {
   "cell_type": "code",
   "execution_count": 21,
   "metadata": {
    "collapsed": true,
    "ExecuteTime": {
     "end_time": "2024-05-22T18:36:14.643108700Z",
     "start_time": "2024-05-22T18:36:14.629108700Z"
    }
   },
   "outputs": [
    {
     "data": {
      "text/plain": "54"
     },
     "execution_count": 21,
     "metadata": {},
     "output_type": "execute_result"
    }
   ],
   "source": [
    "c=cast\n",
    "c = c[c[\"title\"] == \"Hamlet\"]\n",
    "c = c[c[\"year\"] == 1996]\n",
    "len(c)"
   ]
  },
  {
   "cell_type": "code",
   "execution_count": 21,
   "metadata": {
    "collapsed": true,
    "ExecuteTime": {
     "end_time": "2024-05-22T18:36:14.688107800Z",
     "start_time": "2024-05-22T18:36:14.643108700Z"
    }
   },
   "outputs": [],
   "source": []
  },
  {
   "cell_type": "markdown",
   "metadata": {
    "collapsed": true
   },
   "source": [
    "### How many \"Hamlet\" roles have been listed in all film credits through history?"
   ]
  },
  {
   "cell_type": "code",
   "execution_count": 22,
   "metadata": {
    "collapsed": true,
    "ExecuteTime": {
     "end_time": "2024-05-22T18:36:14.792108Z",
     "start_time": "2024-05-22T18:36:14.760108100Z"
    }
   },
   "outputs": [
    {
     "data": {
      "text/plain": "93"
     },
     "execution_count": 22,
     "metadata": {},
     "output_type": "execute_result"
    }
   ],
   "source": [
    "c = cast\n",
    "c = c[c['character'] == \"Hamlet\"]\n",
    "len(c)"
   ]
  },
  {
   "cell_type": "code",
   "execution_count": 22,
   "metadata": {
    "collapsed": true,
    "ExecuteTime": {
     "end_time": "2024-05-22T18:36:14.792108Z",
     "start_time": "2024-05-22T18:36:14.790109600Z"
    }
   },
   "outputs": [],
   "source": []
  },
  {
   "cell_type": "markdown",
   "metadata": {
    "collapsed": true
   },
   "source": [
    "### How many people have played an \"Ophelia\"?"
   ]
  },
  {
   "cell_type": "code",
   "execution_count": 23,
   "metadata": {
    "collapsed": true,
    "ExecuteTime": {
     "end_time": "2024-05-22T18:36:14.890108500Z",
     "start_time": "2024-05-22T18:36:14.790109600Z"
    }
   },
   "outputs": [
    {
     "data": {
      "text/plain": "102"
     },
     "execution_count": 23,
     "metadata": {},
     "output_type": "execute_result"
    }
   ],
   "source": [
    "c = cast\n",
    "c = c[c['character'] == \"Ophelia\"]\n",
    "len(c)"
   ]
  },
  {
   "cell_type": "code",
   "execution_count": 23,
   "metadata": {
    "collapsed": true,
    "ExecuteTime": {
     "end_time": "2024-05-22T18:36:14.920108Z",
     "start_time": "2024-05-22T18:36:14.891108800Z"
    }
   },
   "outputs": [],
   "source": []
  },
  {
   "cell_type": "markdown",
   "metadata": {
    "collapsed": true
   },
   "source": [
    "### How many people have played a role called \"The Dude\"?"
   ]
  },
  {
   "cell_type": "code",
   "execution_count": 24,
   "metadata": {
    "collapsed": true,
    "ExecuteTime": {
     "end_time": "2024-05-22T18:36:15.004124700Z",
     "start_time": "2024-05-22T18:36:14.906110100Z"
    }
   },
   "outputs": [
    {
     "data": {
      "text/plain": "17"
     },
     "execution_count": 24,
     "metadata": {},
     "output_type": "execute_result"
    }
   ],
   "source": [
    "c = cast\n",
    "c = c[c['character'] == \"The Dude\"]\n",
    "len(c)"
   ]
  },
  {
   "cell_type": "code",
   "execution_count": 24,
   "metadata": {
    "collapsed": true,
    "ExecuteTime": {
     "end_time": "2024-05-22T18:36:15.015484Z",
     "start_time": "2024-05-22T18:36:15.002377600Z"
    }
   },
   "outputs": [],
   "source": []
  },
  {
   "cell_type": "markdown",
   "metadata": {
    "collapsed": true
   },
   "source": [
    "### How many people have played a role called \"The Stranger\"?"
   ]
  },
  {
   "cell_type": "code",
   "execution_count": 25,
   "metadata": {
    "collapsed": true,
    "ExecuteTime": {
     "end_time": "2024-05-22T18:36:15.111484500Z",
     "start_time": "2024-05-22T18:36:15.016484400Z"
    }
   },
   "outputs": [
    {
     "data": {
      "text/plain": "170"
     },
     "execution_count": 25,
     "metadata": {},
     "output_type": "execute_result"
    }
   ],
   "source": [
    "c = cast\n",
    "c = c[c['character'] == \"The Stranger\"]\n",
    "len(c)"
   ]
  },
  {
   "cell_type": "code",
   "execution_count": 25,
   "metadata": {
    "collapsed": true,
    "ExecuteTime": {
     "end_time": "2024-05-22T18:36:15.126485100Z",
     "start_time": "2024-05-22T18:36:15.111484500Z"
    }
   },
   "outputs": [],
   "source": []
  },
  {
   "cell_type": "markdown",
   "metadata": {
    "collapsed": true
   },
   "source": [
    "### How many roles has Sidney Poitier played throughout his career?"
   ]
  },
  {
   "cell_type": "code",
   "execution_count": 26,
   "metadata": {
    "collapsed": true,
    "ExecuteTime": {
     "end_time": "2024-05-22T18:36:15.222483900Z",
     "start_time": "2024-05-22T18:36:15.211484100Z"
    }
   },
   "outputs": [
    {
     "data": {
      "text/plain": "43"
     },
     "execution_count": 26,
     "metadata": {},
     "output_type": "execute_result"
    }
   ],
   "source": [
    "c = cast\n",
    "c = c[c.name == \"Sidney Poitier\"]\n",
    "len(c)"
   ]
  },
  {
   "cell_type": "code",
   "execution_count": 26,
   "metadata": {
    "collapsed": true,
    "ExecuteTime": {
     "end_time": "2024-05-22T18:36:15.268483400Z",
     "start_time": "2024-05-22T18:36:15.223484400Z"
    }
   },
   "outputs": [],
   "source": []
  },
  {
   "cell_type": "markdown",
   "metadata": {
    "collapsed": true
   },
   "source": [
    "### How many roles has Judi Dench played?"
   ]
  },
  {
   "cell_type": "code",
   "execution_count": 27,
   "metadata": {
    "collapsed": true,
    "ExecuteTime": {
     "end_time": "2024-05-22T18:36:15.331703800Z",
     "start_time": "2024-05-22T18:36:15.238484900Z"
    }
   },
   "outputs": [
    {
     "data": {
      "text/plain": "55"
     },
     "execution_count": 27,
     "metadata": {},
     "output_type": "execute_result"
    }
   ],
   "source": [
    "c = cast\n",
    "c = c[c.name == \"Judi Dench\"]\n",
    "len(c)"
   ]
  },
  {
   "cell_type": "code",
   "execution_count": 27,
   "metadata": {
    "collapsed": true,
    "ExecuteTime": {
     "end_time": "2024-05-22T18:36:15.378152Z",
     "start_time": "2024-05-22T18:36:15.332703600Z"
    }
   },
   "outputs": [],
   "source": []
  },
  {
   "cell_type": "markdown",
   "metadata": {
    "collapsed": true
   },
   "source": [
    "### List the supporting roles (having n=2) played by Cary Grant in the 1940s, in order by year."
   ]
  },
  {
   "cell_type": "code",
   "execution_count": 28,
   "metadata": {
    "collapsed": true,
    "ExecuteTime": {
     "end_time": "2024-05-22T18:36:15.446230800Z",
     "start_time": "2024-05-22T18:36:15.349755900Z"
    }
   },
   "outputs": [
    {
     "data": {
      "text/plain": "                   title  year        name   type    character    n\n797147  My Favorite Wife  1940  Cary Grant  actor   Nick Arden  2.0\n797157    Penny Serenade  1941  Cary Grant  actor  Roger Adams  2.0",
      "text/html": "<div>\n<style scoped>\n    .dataframe tbody tr th:only-of-type {\n        vertical-align: middle;\n    }\n\n    .dataframe tbody tr th {\n        vertical-align: top;\n    }\n\n    .dataframe thead th {\n        text-align: right;\n    }\n</style>\n<table border=\"1\" class=\"dataframe\">\n  <thead>\n    <tr style=\"text-align: right;\">\n      <th></th>\n      <th>title</th>\n      <th>year</th>\n      <th>name</th>\n      <th>type</th>\n      <th>character</th>\n      <th>n</th>\n    </tr>\n  </thead>\n  <tbody>\n    <tr>\n      <th>797147</th>\n      <td>My Favorite Wife</td>\n      <td>1940</td>\n      <td>Cary Grant</td>\n      <td>actor</td>\n      <td>Nick Arden</td>\n      <td>2.0</td>\n    </tr>\n    <tr>\n      <th>797157</th>\n      <td>Penny Serenade</td>\n      <td>1941</td>\n      <td>Cary Grant</td>\n      <td>actor</td>\n      <td>Roger Adams</td>\n      <td>2.0</td>\n    </tr>\n  </tbody>\n</table>\n</div>"
     },
     "execution_count": 28,
     "metadata": {},
     "output_type": "execute_result"
    }
   ],
   "source": [
    "c = cast\n",
    "c = c[c.name == \"Cary Grant\"]\n",
    "c = c[(c.year >= 1940) & (c.year <= 1949)]\n",
    "c = c[c.n == 2]\n",
    "c"
   ]
  },
  {
   "cell_type": "code",
   "execution_count": 28,
   "metadata": {
    "collapsed": true,
    "ExecuteTime": {
     "end_time": "2024-05-22T18:36:15.460231100Z",
     "start_time": "2024-05-22T18:36:15.444232100Z"
    }
   },
   "outputs": [],
   "source": []
  },
  {
   "cell_type": "markdown",
   "metadata": {
    "collapsed": true
   },
   "source": [
    "### List the leading roles that Cary Grant played in the 1940s in order by year."
   ]
  },
  {
   "cell_type": "code",
   "execution_count": 29,
   "metadata": {
    "collapsed": true,
    "ExecuteTime": {
     "end_time": "2024-05-22T18:36:15.554740400Z",
     "start_time": "2024-05-22T18:36:15.461231300Z"
    }
   },
   "outputs": [
    {
     "data": {
      "text/plain": "                                       title  year        name   type  \\\n797172               The Howards of Virginia  1940  Cary Grant  actor   \n797131                       His Girl Friday  1940  Cary Grant  actor   \n797174                The Philadelphia Story  1940  Cary Grant  actor   \n797162                             Suspicion  1941  Cary Grant  actor   \n797176                  The Talk of the Town  1942  Cary Grant  actor   \n797153                 Once Upon a Honeymoon  1942  Cary Grant  actor   \n797122                     Destination Tokyo  1943  Cary Grant  actor   \n797146                             Mr. Lucky  1943  Cary Grant  actor   \n797154                      Once Upon a Time  1944  Cary Grant  actor   \n797114                  Arsenic and Old Lace  1944  Cary Grant  actor   \n797149             None But the Lonely Heart  1944  Cary Grant  actor   \n797148                         Night and Day  1946  Cary Grant  actor   \n797151                             Notorious  1946  Cary Grant  actor   \n797168      The Bachelor and the Bobby-Soxer  1947  Cary Grant  actor   \n797169                     The Bishop's Wife  1947  Cary Grant  actor   \n797145  Mr. Blandings Builds His Dream House  1948  Cary Grant  actor   \n797126          Every Girl Should Be Married  1948  Cary Grant  actor   \n797135                I Was a Male War Bride  1949  Cary Grant  actor   \n\n                                   character    n  \n797172                           Matt Howard  1.0  \n797131                          Walter Burns  1.0  \n797174                    C. K. Dexter Haven  1.0  \n797162                      Johnnie Aysgarth  1.0  \n797176                          Leopold Dilg  1.0  \n797153                 Patrick 'Pat' O'Toole  1.0  \n797122                         Capt. Cassidy  1.0  \n797146  Joe Adams -posing as Joe Bascopolous  1.0  \n797154                           Jerry Flynn  1.0  \n797114                     Mortimer Brewster  1.0  \n797149                            Ernie Mott  1.0  \n797148                           Cole Porter  1.0  \n797151                                Devlin  1.0  \n797168                           Dick Nugent  1.0  \n797169                                Dudley  1.0  \n797145                         Jim Blandings  1.0  \n797126                     Dr. Madison Brown  1.0  \n797135                 Captain Henri Rochard  1.0  ",
      "text/html": "<div>\n<style scoped>\n    .dataframe tbody tr th:only-of-type {\n        vertical-align: middle;\n    }\n\n    .dataframe tbody tr th {\n        vertical-align: top;\n    }\n\n    .dataframe thead th {\n        text-align: right;\n    }\n</style>\n<table border=\"1\" class=\"dataframe\">\n  <thead>\n    <tr style=\"text-align: right;\">\n      <th></th>\n      <th>title</th>\n      <th>year</th>\n      <th>name</th>\n      <th>type</th>\n      <th>character</th>\n      <th>n</th>\n    </tr>\n  </thead>\n  <tbody>\n    <tr>\n      <th>797172</th>\n      <td>The Howards of Virginia</td>\n      <td>1940</td>\n      <td>Cary Grant</td>\n      <td>actor</td>\n      <td>Matt Howard</td>\n      <td>1.0</td>\n    </tr>\n    <tr>\n      <th>797131</th>\n      <td>His Girl Friday</td>\n      <td>1940</td>\n      <td>Cary Grant</td>\n      <td>actor</td>\n      <td>Walter Burns</td>\n      <td>1.0</td>\n    </tr>\n    <tr>\n      <th>797174</th>\n      <td>The Philadelphia Story</td>\n      <td>1940</td>\n      <td>Cary Grant</td>\n      <td>actor</td>\n      <td>C. K. Dexter Haven</td>\n      <td>1.0</td>\n    </tr>\n    <tr>\n      <th>797162</th>\n      <td>Suspicion</td>\n      <td>1941</td>\n      <td>Cary Grant</td>\n      <td>actor</td>\n      <td>Johnnie Aysgarth</td>\n      <td>1.0</td>\n    </tr>\n    <tr>\n      <th>797176</th>\n      <td>The Talk of the Town</td>\n      <td>1942</td>\n      <td>Cary Grant</td>\n      <td>actor</td>\n      <td>Leopold Dilg</td>\n      <td>1.0</td>\n    </tr>\n    <tr>\n      <th>797153</th>\n      <td>Once Upon a Honeymoon</td>\n      <td>1942</td>\n      <td>Cary Grant</td>\n      <td>actor</td>\n      <td>Patrick 'Pat' O'Toole</td>\n      <td>1.0</td>\n    </tr>\n    <tr>\n      <th>797122</th>\n      <td>Destination Tokyo</td>\n      <td>1943</td>\n      <td>Cary Grant</td>\n      <td>actor</td>\n      <td>Capt. Cassidy</td>\n      <td>1.0</td>\n    </tr>\n    <tr>\n      <th>797146</th>\n      <td>Mr. Lucky</td>\n      <td>1943</td>\n      <td>Cary Grant</td>\n      <td>actor</td>\n      <td>Joe Adams -posing as Joe Bascopolous</td>\n      <td>1.0</td>\n    </tr>\n    <tr>\n      <th>797154</th>\n      <td>Once Upon a Time</td>\n      <td>1944</td>\n      <td>Cary Grant</td>\n      <td>actor</td>\n      <td>Jerry Flynn</td>\n      <td>1.0</td>\n    </tr>\n    <tr>\n      <th>797114</th>\n      <td>Arsenic and Old Lace</td>\n      <td>1944</td>\n      <td>Cary Grant</td>\n      <td>actor</td>\n      <td>Mortimer Brewster</td>\n      <td>1.0</td>\n    </tr>\n    <tr>\n      <th>797149</th>\n      <td>None But the Lonely Heart</td>\n      <td>1944</td>\n      <td>Cary Grant</td>\n      <td>actor</td>\n      <td>Ernie Mott</td>\n      <td>1.0</td>\n    </tr>\n    <tr>\n      <th>797148</th>\n      <td>Night and Day</td>\n      <td>1946</td>\n      <td>Cary Grant</td>\n      <td>actor</td>\n      <td>Cole Porter</td>\n      <td>1.0</td>\n    </tr>\n    <tr>\n      <th>797151</th>\n      <td>Notorious</td>\n      <td>1946</td>\n      <td>Cary Grant</td>\n      <td>actor</td>\n      <td>Devlin</td>\n      <td>1.0</td>\n    </tr>\n    <tr>\n      <th>797168</th>\n      <td>The Bachelor and the Bobby-Soxer</td>\n      <td>1947</td>\n      <td>Cary Grant</td>\n      <td>actor</td>\n      <td>Dick Nugent</td>\n      <td>1.0</td>\n    </tr>\n    <tr>\n      <th>797169</th>\n      <td>The Bishop's Wife</td>\n      <td>1947</td>\n      <td>Cary Grant</td>\n      <td>actor</td>\n      <td>Dudley</td>\n      <td>1.0</td>\n    </tr>\n    <tr>\n      <th>797145</th>\n      <td>Mr. Blandings Builds His Dream House</td>\n      <td>1948</td>\n      <td>Cary Grant</td>\n      <td>actor</td>\n      <td>Jim Blandings</td>\n      <td>1.0</td>\n    </tr>\n    <tr>\n      <th>797126</th>\n      <td>Every Girl Should Be Married</td>\n      <td>1948</td>\n      <td>Cary Grant</td>\n      <td>actor</td>\n      <td>Dr. Madison Brown</td>\n      <td>1.0</td>\n    </tr>\n    <tr>\n      <th>797135</th>\n      <td>I Was a Male War Bride</td>\n      <td>1949</td>\n      <td>Cary Grant</td>\n      <td>actor</td>\n      <td>Captain Henri Rochard</td>\n      <td>1.0</td>\n    </tr>\n  </tbody>\n</table>\n</div>"
     },
     "execution_count": 29,
     "metadata": {},
     "output_type": "execute_result"
    }
   ],
   "source": [
    "c = cast\n",
    "c = c[c.name == \"Cary Grant\"]\n",
    "c = c[(c.year >= 1940) & (c.year <= 1949)]\n",
    "c = c[c.n == 1]\n",
    "c = c.sort_values('year')\n",
    "c.head(18)"
   ]
  },
  {
   "cell_type": "code",
   "execution_count": 29,
   "metadata": {
    "collapsed": true,
    "ExecuteTime": {
     "end_time": "2024-05-22T18:36:15.580740100Z",
     "start_time": "2024-05-22T18:36:15.554740400Z"
    }
   },
   "outputs": [],
   "source": []
  },
  {
   "cell_type": "markdown",
   "metadata": {
    "collapsed": true
   },
   "source": [
    "### How many roles were available for actors in the 1950s?"
   ]
  },
  {
   "cell_type": "code",
   "execution_count": 30,
   "metadata": {
    "collapsed": true,
    "ExecuteTime": {
     "end_time": "2024-05-22T18:36:15.665914600Z",
     "start_time": "2024-05-22T18:36:15.569740800Z"
    }
   },
   "outputs": [
    {
     "data": {
      "text/plain": "153559"
     },
     "execution_count": 30,
     "metadata": {},
     "output_type": "execute_result"
    }
   ],
   "source": [
    "c = cast\n",
    "c = c[(c.year >= 1950) & (c.year <= 1959)]\n",
    "c = c[c.type == \"actor\"]\n",
    "\n",
    "len(c)"
   ]
  },
  {
   "cell_type": "code",
   "execution_count": 30,
   "metadata": {
    "collapsed": true,
    "ExecuteTime": {
     "end_time": "2024-05-22T18:36:15.665914600Z",
     "start_time": "2024-05-22T18:36:15.616741Z"
    }
   },
   "outputs": [],
   "source": []
  },
  {
   "cell_type": "markdown",
   "metadata": {
    "collapsed": true
   },
   "source": [
    "### How many roles were available for actresses in the 1950s?"
   ]
  },
  {
   "cell_type": "code",
   "execution_count": 31,
   "metadata": {
    "collapsed": true,
    "ExecuteTime": {
     "end_time": "2024-05-22T18:36:15.687914100Z",
     "start_time": "2024-05-22T18:36:15.632740500Z"
    }
   },
   "outputs": [
    {
     "data": {
      "text/plain": "56331"
     },
     "execution_count": 31,
     "metadata": {},
     "output_type": "execute_result"
    }
   ],
   "source": [
    "c = cast\n",
    "c = c[(c.year >= 1950) & (c.year <= 1959)]\n",
    "c = c[c.type == \"actress\"]\n",
    "\n",
    "len(c)"
   ]
  },
  {
   "cell_type": "code",
   "execution_count": 31,
   "metadata": {
    "collapsed": true,
    "ExecuteTime": {
     "end_time": "2024-05-22T18:36:15.738227400Z",
     "start_time": "2024-05-22T18:36:15.677914800Z"
    }
   },
   "outputs": [],
   "source": []
  },
  {
   "cell_type": "markdown",
   "metadata": {
    "collapsed": true
   },
   "source": [
    "### How many leading roles (n=1) were available from the beginning of film history through 1980?"
   ]
  },
  {
   "cell_type": "code",
   "execution_count": 34,
   "metadata": {
    "collapsed": true,
    "ExecuteTime": {
     "end_time": "2024-05-22T18:37:37.461230900Z",
     "start_time": "2024-05-22T18:37:37.362230600Z"
    }
   },
   "outputs": [
    {
     "data": {
      "text/plain": "62763"
     },
     "execution_count": 34,
     "metadata": {},
     "output_type": "execute_result"
    }
   ],
   "source": [
    "c = cast\n",
    "c = c[(c.year <= 1980)]\n",
    "c = c[c.n == 1]\n",
    "len(c)"
   ]
  },
  {
   "cell_type": "code",
   "execution_count": 31,
   "metadata": {
    "collapsed": true,
    "ExecuteTime": {
     "end_time": "2024-05-22T18:36:15.746227800Z",
     "start_time": "2024-05-22T18:36:15.708750Z"
    }
   },
   "outputs": [],
   "source": []
  },
  {
   "cell_type": "markdown",
   "metadata": {
    "collapsed": true
   },
   "source": [
    "### How many non-leading roles were available through from the beginning of film history through 1980?"
   ]
  },
  {
   "cell_type": "code",
   "execution_count": 35,
   "metadata": {
    "collapsed": true,
    "ExecuteTime": {
     "end_time": "2024-05-22T18:37:54.753292400Z",
     "start_time": "2024-05-22T18:37:54.622666600Z"
    }
   },
   "outputs": [
    {
     "data": {
      "text/plain": "1078306"
     },
     "execution_count": 35,
     "metadata": {},
     "output_type": "execute_result"
    }
   ],
   "source": [
    "c = cast\n",
    "c = c[(c.year <= 1980)]\n",
    "c = c[c.n != 1]\n",
    "len(c)"
   ]
  },
  {
   "cell_type": "code",
   "execution_count": 31,
   "metadata": {
    "collapsed": true,
    "ExecuteTime": {
     "end_time": "2024-05-22T18:36:15.760227700Z",
     "start_time": "2024-05-22T18:36:15.740229Z"
    }
   },
   "outputs": [],
   "source": []
  },
  {
   "cell_type": "markdown",
   "metadata": {
    "collapsed": true
   },
   "source": [
    "### How many roles through 1980 were minor enough that they did not warrant a numeric \"n\" rank?"
   ]
  },
  {
   "cell_type": "code",
   "execution_count": 36,
   "metadata": {
    "collapsed": true,
    "ExecuteTime": {
     "end_time": "2024-05-22T18:38:24.038423500Z",
     "start_time": "2024-05-22T18:38:23.920790200Z"
    }
   },
   "outputs": [
    {
     "data": {
      "text/plain": "437383"
     },
     "execution_count": 36,
     "metadata": {},
     "output_type": "execute_result"
    }
   ],
   "source": [
    "c = cast\n",
    "c = c[(c.year <= 1980)]\n",
    "c = c[c.n.isnull()]\n",
    "len(c)"
   ]
  },
  {
   "cell_type": "code",
   "execution_count": 31,
   "metadata": {
    "collapsed": true,
    "ExecuteTime": {
     "end_time": "2024-05-22T18:36:15.790227600Z",
     "start_time": "2024-05-22T18:36:15.772228300Z"
    }
   },
   "outputs": [],
   "source": []
  }
 ],
 "metadata": {
  "kernelspec": {
   "display_name": "Python 3",
   "language": "python",
   "name": "python3"
  },
  "language_info": {
   "codemirror_mode": {
    "name": "ipython",
    "version": 3
   },
   "file_extension": ".py",
   "mimetype": "text/x-python",
   "name": "python",
   "nbconvert_exporter": "python",
   "pygments_lexer": "ipython3",
   "version": "3.6.8"
  }
 },
 "nbformat": 4,
 "nbformat_minor": 1
}
